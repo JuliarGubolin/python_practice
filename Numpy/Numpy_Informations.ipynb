{
 "cells": [
  {
   "cell_type": "code",
   "execution_count": 2,
   "metadata": {},
   "outputs": [],
   "source": [
    "import numpy as np"
   ]
  },
  {
   "cell_type": "markdown",
   "metadata": {},
   "source": [
    "# Numpy Introduction"
   ]
  },
  {
   "cell_type": "markdown",
   "metadata": {},
   "source": [
    "Biblioteca de vetores multidimensionais, é mais rápida que uma lista (mais rápida para ler menos bytes). Numpy usa tipos fixos. Listas guardam bem mais informação para um simples numero inteiro, por exemplo. Numpy guarda apenas o binário em Int32 (ou outro tipo). Em listas, você tem mais de um tipo de variável, então seria necessário ficar verificando se é inteiro ou não. No numpy isso não é necessário. Numpy tem uma memória em sequencia, não pulamos blocos de memória.\n",
    "\n",
    "Diferença entre Numpy e listas: numpy tem mto mais funções do que as listas disponibilizam.\n",
    "Aplicações do numpy: MATLAB (operações matemáticas poderosas, gráficos, backend pandas), ML aplicações"
   ]
  },
  {
   "cell_type": "code",
   "execution_count": 3,
   "metadata": {},
   "outputs": [
    {
     "name": "stdout",
     "output_type": "stream",
     "text": [
      "[1 2 3]\n"
     ]
    }
   ],
   "source": [
    "a = np.array([1, 2, 3])\n",
    "print(a)"
   ]
  },
  {
   "cell_type": "code",
   "execution_count": 4,
   "metadata": {},
   "outputs": [
    {
     "name": "stdout",
     "output_type": "stream",
     "text": [
      "2\n"
     ]
    }
   ],
   "source": [
    "b = np.array([[9.0, 8.0, 7.0], [1.2, 3.5, 6.1]])\n",
    "\n",
    "# Dimension\n",
    "print(b.ndim)"
   ]
  },
  {
   "cell_type": "code",
   "execution_count": 7,
   "metadata": {},
   "outputs": [
    {
     "data": {
      "text/plain": [
       "(2, 3)"
      ]
     },
     "execution_count": 7,
     "metadata": {},
     "output_type": "execute_result"
    }
   ],
   "source": [
    "# Shape\n",
    "a.shape\n",
    "b.shape"
   ]
  },
  {
   "cell_type": "code",
   "execution_count": 17,
   "metadata": {},
   "outputs": [
    {
     "data": {
      "text/plain": [
       "dtype('int16')"
      ]
     },
     "execution_count": 17,
     "metadata": {},
     "output_type": "execute_result"
    }
   ],
   "source": [
    "# Get type\n",
    "a.dtype\n",
    "\n",
    "# Change de Type\n",
    "a = np.array([1, 2, 3], dtype='int16')\n",
    "a.dtype"
   ]
  },
  {
   "cell_type": "code",
   "execution_count": 19,
   "metadata": {},
   "outputs": [
    {
     "data": {
      "text/plain": [
       "3"
      ]
     },
     "execution_count": 19,
     "metadata": {},
     "output_type": "execute_result"
    }
   ],
   "source": [
    "# Get size in bytes. So, if the type is int16, the result will be 2. If int32, the size will be 4\n",
    "a.itemsize\n",
    "\n",
    "# To see the number of elements, we use\n",
    "a.size"
   ]
  },
  {
   "cell_type": "markdown",
   "metadata": {},
   "source": [
    "# Acessing/Changing specific elements, rows, colums etc."
   ]
  },
  {
   "cell_type": "code",
   "execution_count": 19,
   "metadata": {},
   "outputs": [
    {
     "name": "stdout",
     "output_type": "stream",
     "text": [
      "[[ 1  2  3  4  5  6  7]\n",
      " [ 8  9 10 11 12 13 14]]\n"
     ]
    }
   ],
   "source": [
    "a = np.array([[1, 2, 3, 4, 5, 6, 7], [8, 9, 10, 11, 12, 13, 14]])\n",
    "print(a)"
   ]
  },
  {
   "cell_type": "code",
   "execution_count": 9,
   "metadata": {},
   "outputs": [
    {
     "data": {
      "text/plain": [
       "(2, 7)"
      ]
     },
     "execution_count": 9,
     "metadata": {},
     "output_type": "execute_result"
    }
   ],
   "source": [
    "a.shape"
   ]
  },
  {
   "cell_type": "code",
   "execution_count": 10,
   "metadata": {},
   "outputs": [
    {
     "data": {
      "text/plain": [
       "np.int64(13)"
      ]
     },
     "execution_count": 10,
     "metadata": {},
     "output_type": "execute_result"
    }
   ],
   "source": [
    "# Get specifc element [row, column]. The rows and columns start on 0\n",
    "\n",
    "a[1, 5] # 13\n",
    "a[0, 5] # 6\n",
    "a[1, -2] # 13"
   ]
  },
  {
   "cell_type": "code",
   "execution_count": 21,
   "metadata": {},
   "outputs": [
    {
     "data": {
      "text/plain": [
       "np.int64(3)"
      ]
     },
     "execution_count": 21,
     "metadata": {},
     "output_type": "execute_result"
    }
   ],
   "source": [
    "# Get a specific row\n",
    "a[0]\n",
    "a[0, -5]"
   ]
  },
  {
   "cell_type": "code",
   "execution_count": 12,
   "metadata": {},
   "outputs": [
    {
     "data": {
      "text/plain": [
       "array([ 3, 10])"
      ]
     },
     "execution_count": 12,
     "metadata": {},
     "output_type": "execute_result"
    }
   ],
   "source": [
    "# Get a specific column\n",
    "a[:, 2]"
   ]
  },
  {
   "cell_type": "code",
   "execution_count": 25,
   "metadata": {},
   "outputs": [
    {
     "data": {
      "text/plain": [
       "array([1, 2, 3, 4, 5, 6, 7])"
      ]
     },
     "execution_count": 25,
     "metadata": {},
     "output_type": "execute_result"
    }
   ],
   "source": [
    "# Fancier now\n",
    "# Between 2 and 6 elements\n",
    "a[0, 1:6]\n",
    "a[0, 0:89] # Não da erro mesmo o último elemento sendo o de número 7\n",
    "\n",
    "# Skiping elements\n",
    "# a[0, 1:6:2] # 2, 4, 6"
   ]
  },
  {
   "cell_type": "code",
   "execution_count": 14,
   "metadata": {},
   "outputs": [
    {
     "name": "stdout",
     "output_type": "stream",
     "text": [
      "[[ 1  2  3  4  5  6  7]\n",
      " [ 8  9 10 11 12 30 14]]\n",
      "[[ 1  2  5  4  5  6  7]\n",
      " [ 8  9  5 11 12 30 14]]\n"
     ]
    }
   ],
   "source": [
    "# Change a number in a specific position\n",
    "a[1, 5] = 30\n",
    "print(a)\n",
    "\n",
    "# Quero que, em todas as linhas, a posição 2 (elemento 3) mude para o valor estipulado\n",
    "a[:, 2] = 5\n",
    "print(a)"
   ]
  },
  {
   "cell_type": "code",
   "execution_count": 15,
   "metadata": {},
   "outputs": [
    {
     "name": "stdout",
     "output_type": "stream",
     "text": [
      "[[[1 2]\n",
      "  [3 4]]\n",
      "\n",
      " [[5 6]\n",
      "  [6 7]]]\n"
     ]
    }
   ],
   "source": [
    "# 3-D Example\n",
    "\n",
    "b = np.array([[[1, 2], [3, 4]], \n",
    "              [[5, 6], [6, 7]]])\n",
    "print(b)"
   ]
  },
  {
   "cell_type": "code",
   "execution_count": 16,
   "metadata": {},
   "outputs": [
    {
     "data": {
      "text/plain": [
       "np.int64(4)"
      ]
     },
     "execution_count": 16,
     "metadata": {},
     "output_type": "execute_result"
    }
   ],
   "source": [
    "# Elemento específico de um array 3D\n",
    "# Quero o elemento 4 \n",
    "\n",
    "# b[conjunto, linha, coluna]\n",
    "b[0, 1, 1]"
   ]
  },
  {
   "cell_type": "code",
   "execution_count": 17,
   "metadata": {},
   "outputs": [
    {
     "name": "stdout",
     "output_type": "stream",
     "text": [
      "[[[ 1  2]\n",
      "  [ 3  4]]\n",
      "\n",
      " [[ 5  6]\n",
      "  [88  7]]]\n"
     ]
    }
   ],
   "source": [
    "# REPLACE\n",
    "\n",
    "b[1, 1, 0] = 88\n",
    "print(b)"
   ]
  },
  {
   "cell_type": "code",
   "execution_count": 18,
   "metadata": {},
   "outputs": [
    {
     "name": "stdout",
     "output_type": "stream",
     "text": [
      "[[[1 2]\n",
      "  [9 9]]\n",
      "\n",
      " [[5 6]\n",
      "  [8 8]]]\n"
     ]
    }
   ],
   "source": [
    "b[:, 1, :] = [[9,9], [8,8]]\n",
    "print(b)"
   ]
  },
  {
   "cell_type": "markdown",
   "metadata": {},
   "source": [
    "# Initializing diferent types of arrays"
   ]
  },
  {
   "cell_type": "code",
   "execution_count": null,
   "metadata": {},
   "outputs": [],
   "source": [
    "# All 0s matrix\n",
    "np.zeros((2,3))\n",
    "\n",
    "# All 1s matrix\n",
    "np.ones((4,2,2), dtype='int32')\n",
    "\n",
    "# Any other number\n",
    "np.full((2,2), 99)\n",
    "\n",
    "# Any other number (full_like)\n",
    "np.full_like(a, 4)\n",
    "\n",
    "# Random Integer values\n",
    "np.random.randint(-4,8, size=(3,3))\n",
    "\n",
    "# Repeat an array\n",
    "\n",
    "arr = np.array([[1,2,3]])\n",
    "r1 = np.repeat(arr,3, axis=0)\n",
    "print(r1)"
   ]
  },
  {
   "cell_type": "code",
   "execution_count": 64,
   "metadata": {},
   "outputs": [
    {
     "name": "stdout",
     "output_type": "stream",
     "text": [
      "[[1. 1. 1. 1. 1.]\n",
      " [1. 1. 1. 1. 1.]\n",
      " [1. 1. 1. 1. 1.]\n",
      " [1. 1. 1. 1. 1.]\n",
      " [1. 1. 1. 1. 1.]]\n",
      "[[0. 0. 0.]\n",
      " [0. 0. 0.]\n",
      " [0. 0. 0.]]\n",
      "[[0. 0. 0.]\n",
      " [0. 9. 0.]\n",
      " [0. 0. 0.]]\n",
      "[[1. 1. 1. 1. 1.]\n",
      " [1. 0. 0. 0. 1.]\n",
      " [1. 0. 9. 0. 1.]\n",
      " [1. 0. 0. 0. 1.]\n",
      " [1. 1. 1. 1. 1.]]\n"
     ]
    }
   ],
   "source": [
    "a = np.ones((5, 5))\n",
    "print(a)\n",
    "\n",
    "z = np.zeros((3, 3))\n",
    "print(z)\n",
    "\n",
    "z[1, 1] = 9\n",
    "print(z)\n",
    "\n",
    "a[1:4, 1:4] = z\n",
    "print(a)"
   ]
  },
  {
   "cell_type": "markdown",
   "metadata": {},
   "source": [
    "# Be careful when copying arrays!!!"
   ]
  },
  {
   "cell_type": "code",
   "execution_count": null,
   "metadata": {},
   "outputs": [
    {
     "name": "stdout",
     "output_type": "stream",
     "text": [
      "[1 2 3 4]\n",
      "[66  2  3  4]\n",
      "[66  2  3  4]\n"
     ]
    }
   ],
   "source": [
    "# Se você copiar arrays desta forma, os arrays ficarão conectados e se modificarão juntos\n",
    "a = np.array([1, 2, 3, 4])\n",
    "print(a)\n",
    "b = a\n",
    "a[0] = 66\n",
    "print(a)\n",
    "print(b)"
   ]
  },
  {
   "cell_type": "code",
   "execution_count": 68,
   "metadata": {},
   "outputs": [
    {
     "name": "stdout",
     "output_type": "stream",
     "text": [
      "[1 2 3]\n",
      "[1 2 3]\n",
      "[100   2   3]\n",
      "[1 2 3]\n"
     ]
    }
   ],
   "source": [
    "# Forma correta\n",
    "a = np.array([1, 2, 3])\n",
    "b = a.copy()\n",
    "print(a)\n",
    "print(b)\n",
    "\n",
    "b[0] = 100\n",
    "print(b)\n",
    "print(a)"
   ]
  },
  {
   "cell_type": "code",
   "execution_count": 56,
   "metadata": {},
   "outputs": [
    {
     "name": "stdout",
     "output_type": "stream",
     "text": [
      "[1 2 3 4]\n",
      "[66  2  3  4]\n",
      "[66  2  3  4]\n"
     ]
    }
   ],
   "source": [
    "# Se você copiar arrays desta forma, os arrays ficarão conectados e se modificarão juntos\n",
    "a = np.array([1, 2, 3, 4])\n",
    "print(a)\n",
    "b = a\n",
    "a[0] = 66\n",
    "print(a)\n",
    "print(b)"
   ]
  },
  {
   "cell_type": "markdown",
   "metadata": {},
   "source": [
    "# Mathematics"
   ]
  },
  {
   "cell_type": "code",
   "execution_count": 50,
   "metadata": {},
   "outputs": [
    {
     "name": "stdout",
     "output_type": "stream",
     "text": [
      "[1 2 3 4]\n"
     ]
    }
   ],
   "source": [
    "a = np.array([1, 2, 3, 4])\n",
    "print(a)"
   ]
  },
  {
   "cell_type": "code",
   "execution_count": 44,
   "metadata": {},
   "outputs": [
    {
     "data": {
      "text/plain": [
       "array([3, 4, 5])"
      ]
     },
     "execution_count": 44,
     "metadata": {},
     "output_type": "execute_result"
    }
   ],
   "source": [
    "a+2"
   ]
  },
  {
   "cell_type": "code",
   "execution_count": 45,
   "metadata": {},
   "outputs": [
    {
     "data": {
      "text/plain": [
       "array([-1,  0,  1])"
      ]
     },
     "execution_count": 45,
     "metadata": {},
     "output_type": "execute_result"
    }
   ],
   "source": [
    "a-2"
   ]
  },
  {
   "cell_type": "code",
   "execution_count": 46,
   "metadata": {},
   "outputs": [
    {
     "data": {
      "text/plain": [
       "array([2, 4, 6])"
      ]
     },
     "execution_count": 46,
     "metadata": {},
     "output_type": "execute_result"
    }
   ],
   "source": [
    "a*2"
   ]
  },
  {
   "cell_type": "code",
   "execution_count": 51,
   "metadata": {},
   "outputs": [
    {
     "data": {
      "text/plain": [
       "array([2, 2, 4, 4])"
      ]
     },
     "execution_count": 51,
     "metadata": {},
     "output_type": "execute_result"
    }
   ],
   "source": [
    "b = np.array([1, 0, 1, 0])\n",
    "a+b"
   ]
  },
  {
   "cell_type": "code",
   "execution_count": 52,
   "metadata": {},
   "outputs": [
    {
     "data": {
      "text/plain": [
       "array([ 1,  4,  9, 16])"
      ]
     },
     "execution_count": 52,
     "metadata": {},
     "output_type": "execute_result"
    }
   ],
   "source": [
    "a**2"
   ]
  },
  {
   "cell_type": "code",
   "execution_count": 54,
   "metadata": {},
   "outputs": [
    {
     "data": {
      "text/plain": [
       "array([ 0.54030231, -0.41614684, -0.9899925 , -0.65364362])"
      ]
     },
     "execution_count": 54,
     "metadata": {},
     "output_type": "execute_result"
    }
   ],
   "source": [
    "# Seno dos valores\n",
    "np.sin(a)\n",
    "np.cos(a)"
   ]
  },
  {
   "cell_type": "markdown",
   "metadata": {},
   "source": [
    "# Linear Algebra"
   ]
  },
  {
   "cell_type": "code",
   "execution_count": 71,
   "metadata": {},
   "outputs": [
    {
     "name": "stdout",
     "output_type": "stream",
     "text": [
      "[[1. 1. 1.]\n",
      " [1. 1. 1.]]\n",
      "[[2 2]\n",
      " [2 2]\n",
      " [2 2]]\n"
     ]
    },
    {
     "data": {
      "text/plain": [
       "array([[6., 6.],\n",
       "       [6., 6.]])"
      ]
     },
     "execution_count": 71,
     "metadata": {},
     "output_type": "execute_result"
    }
   ],
   "source": [
    "# Multiplicando matrizes multidimensionais. A linhas de uma devem ser a mesma quantidade das colunas da outra\n",
    "\n",
    "a = np.ones((2, 3))\n",
    "b = np.full((3, 2), 2)\n",
    "\n",
    "print(a);print(b)\n",
    "\n",
    "np.matmul(a,b)"
   ]
  },
  {
   "cell_type": "code",
   "execution_count": 74,
   "metadata": {},
   "outputs": [
    {
     "name": "stdout",
     "output_type": "stream",
     "text": [
      "[[4 1 2]\n",
      " [1 2 4]\n",
      " [2 1 1]]\n"
     ]
    },
    {
     "data": {
      "text/plain": [
       "np.float64(-6.999999999999999)"
      ]
     },
     "execution_count": 74,
     "metadata": {},
     "output_type": "execute_result"
    }
   ],
   "source": [
    "# Determinante da matriz\n",
    "\n",
    "# Criei uma matriz de inteiros aleatórios para testar\n",
    "c = np.random.randint(1, 5, size = (3,3))\n",
    "print(c)\n",
    "np.linalg.det(c)"
   ]
  },
  {
   "cell_type": "markdown",
   "metadata": {},
   "source": [
    "# Statistics\n"
   ]
  },
  {
   "cell_type": "code",
   "execution_count": 75,
   "metadata": {},
   "outputs": [
    {
     "data": {
      "text/plain": [
       "array([[1, 2, 3],\n",
       "       [4, 5, 6]])"
      ]
     },
     "execution_count": 75,
     "metadata": {},
     "output_type": "execute_result"
    }
   ],
   "source": [
    "stats = np.array([[1, 2, 3],[4, 5, 6]])\n",
    "stats"
   ]
  },
  {
   "cell_type": "code",
   "execution_count": 78,
   "metadata": {},
   "outputs": [
    {
     "data": {
      "text/plain": [
       "array([1, 2, 3])"
      ]
     },
     "execution_count": 78,
     "metadata": {},
     "output_type": "execute_result"
    }
   ],
   "source": [
    "np.min(stats)\n",
    "# Para cada linha\n",
    "np.min(stats, axis=1)\n",
    "# Para cada coluna (no caso me retorna a primeira linha pois ela tem os menores valores de coluna também)\n",
    "np.min(stats, axis=0)"
   ]
  },
  {
   "cell_type": "code",
   "execution_count": 81,
   "metadata": {},
   "outputs": [
    {
     "data": {
      "text/plain": [
       "np.int64(6)"
      ]
     },
     "execution_count": 81,
     "metadata": {},
     "output_type": "execute_result"
    }
   ],
   "source": [
    "np.max(stats)\n"
   ]
  },
  {
   "cell_type": "code",
   "execution_count": 84,
   "metadata": {},
   "outputs": [
    {
     "data": {
      "text/plain": [
       "array([5, 7, 9])"
      ]
     },
     "execution_count": 84,
     "metadata": {},
     "output_type": "execute_result"
    }
   ],
   "source": [
    "# Soma todos\n",
    "np.sum(stats)\n",
    "\n",
    "# Soma linha por linha\n",
    "np.sum(stats, axis=1)\n",
    "\n",
    "# Soma coluna por coluna\n",
    "np.sum(stats, axis=0)"
   ]
  },
  {
   "cell_type": "markdown",
   "metadata": {},
   "source": [
    "# Reorganizing arrays"
   ]
  },
  {
   "cell_type": "code",
   "execution_count": 88,
   "metadata": {},
   "outputs": [
    {
     "name": "stdout",
     "output_type": "stream",
     "text": [
      "(2, 4)\n",
      "[[1]\n",
      " [2]\n",
      " [3]\n",
      " [4]\n",
      " [5]\n",
      " [6]\n",
      " [7]\n",
      " [8]]\n",
      "[[[1 2]\n",
      "  [3 4]]\n",
      "\n",
      " [[5 6]\n",
      "  [7 8]]]\n"
     ]
    }
   ],
   "source": [
    "before = np.array([[1, 2, 3, 4], [5, 6, 7, 8]])\n",
    "print(before.shape)\n",
    "\n",
    "after = before.reshape(8,1)\n",
    "print(after)\n",
    "\n",
    "after = before.reshape((2,2,2))\n",
    "print(after)"
   ]
  },
  {
   "cell_type": "code",
   "execution_count": 90,
   "metadata": {},
   "outputs": [
    {
     "data": {
      "text/plain": [
       "array([[1, 2, 3, 4],\n",
       "       [5, 6, 7, 8],\n",
       "       [1, 2, 3, 4],\n",
       "       [5, 6, 7, 8]])"
      ]
     },
     "execution_count": 90,
     "metadata": {},
     "output_type": "execute_result"
    }
   ],
   "source": [
    "# Vertically stacking vectors\n",
    "v1 = np.array([1,2,3,4])\n",
    "v2 = np.array([5,6,7,8])\n",
    "\n",
    "np.vstack([v1,v2,v1,v2])"
   ]
  },
  {
   "cell_type": "code",
   "execution_count": 91,
   "metadata": {},
   "outputs": [
    {
     "data": {
      "text/plain": [
       "array([[1., 1., 1., 1., 0., 0.],\n",
       "       [1., 1., 1., 1., 0., 0.]])"
      ]
     },
     "execution_count": 91,
     "metadata": {},
     "output_type": "execute_result"
    }
   ],
   "source": [
    "# Horizontal  stack\n",
    "h1 = np.ones((2,4))\n",
    "h2 = np.zeros((2,2))\n",
    "\n",
    "# Parantesis e braquets funcionam []\n",
    "np.hstack((h1,h2))"
   ]
  },
  {
   "cell_type": "code",
   "execution_count": null,
   "metadata": {},
   "outputs": [],
   "source": []
  },
  {
   "cell_type": "markdown",
   "metadata": {},
   "source": [
    "# Miscellaneous"
   ]
  },
  {
   "cell_type": "markdown",
   "metadata": {},
   "source": [
    "## Load data from file"
   ]
  },
  {
   "cell_type": "code",
   "execution_count": 93,
   "metadata": {},
   "outputs": [
    {
     "data": {
      "text/plain": [
       "array([[  1,  13,  21,  11, 196,  75,   4,   3,  34,   6,   7,   8,   0,\n",
       "          1,   2,   3,   4,   5],\n",
       "       [  3,  42,  12,  33, 766,  75,   4,  55,   6,   4,   3,   4,   5,\n",
       "          6,   7,   0,  11,  12],\n",
       "       [  1,  22,  33,  11, 999,  11,   2,   1,  78,   0,   1,   2,   9,\n",
       "          8,   7,   1,  76,  88]], dtype=int32)"
      ]
     },
     "execution_count": 93,
     "metadata": {},
     "output_type": "execute_result"
    }
   ],
   "source": [
    "filedata = np.genfromtxt('data.txt', delimiter=',')\n",
    "filedata.astype('int32')"
   ]
  },
  {
   "cell_type": "markdown",
   "metadata": {},
   "source": [
    "## Boolean Masking and Advaced indexing"
   ]
  },
  {
   "cell_type": "code",
   "execution_count": 94,
   "metadata": {},
   "outputs": [
    {
     "data": {
      "text/plain": [
       "array([[False, False, False, False,  True,  True, False, False, False,\n",
       "        False, False, False, False, False, False, False, False, False],\n",
       "       [False, False, False, False,  True,  True, False,  True, False,\n",
       "        False, False, False, False, False, False, False, False, False],\n",
       "       [False, False, False, False,  True, False, False, False,  True,\n",
       "        False, False, False, False, False, False, False,  True,  True]])"
      ]
     },
     "execution_count": 94,
     "metadata": {},
     "output_type": "execute_result"
    }
   ],
   "source": [
    "filedata > 50"
   ]
  },
  {
   "cell_type": "code",
   "execution_count": 95,
   "metadata": {},
   "outputs": [
    {
     "data": {
      "text/plain": [
       "array([196.,  75., 766.,  75.,  55., 999.,  78.,  76.,  88.])"
      ]
     },
     "execution_count": 95,
     "metadata": {},
     "output_type": "execute_result"
    }
   ],
   "source": [
    "filedata[filedata>50]"
   ]
  },
  {
   "cell_type": "code",
   "execution_count": 97,
   "metadata": {},
   "outputs": [
    {
     "data": {
      "text/plain": [
       "array([2, 3, 9])"
      ]
     },
     "execution_count": 97,
     "metadata": {},
     "output_type": "execute_result"
    }
   ],
   "source": [
    "## You can index with a list in Numpy\n",
    "a = np.array([1, 2, 3, 4, 5, 6, 7, 8, 9])\n",
    "# Números nas posições 1, 2, e 8\n",
    "a[[1,2,8]]"
   ]
  },
  {
   "cell_type": "code",
   "execution_count": 99,
   "metadata": {},
   "outputs": [
    {
     "data": {
      "text/plain": [
       "array([False, False, False])"
      ]
     },
     "execution_count": 99,
     "metadata": {},
     "output_type": "execute_result"
    }
   ],
   "source": [
    "# Colunas com valores maiores do que 50\n",
    "np.all(filedata > 50, axis=0)\n",
    "\n",
    "# Linha com valores maiores do que 50\n",
    "np.all(filedata > 50, axis=1)"
   ]
  },
  {
   "cell_type": "code",
   "execution_count": 102,
   "metadata": {},
   "outputs": [
    {
     "data": {
      "text/plain": [
       "array([[ True,  True,  True,  True, False, False,  True,  True,  True,\n",
       "         True,  True,  True,  True,  True,  True,  True,  True,  True],\n",
       "       [ True,  True,  True,  True, False, False,  True, False,  True,\n",
       "         True,  True,  True,  True,  True,  True,  True,  True,  True],\n",
       "       [ True,  True,  True,  True, False,  True,  True,  True, False,\n",
       "         True,  True,  True,  True,  True,  True,  True, False, False]])"
      ]
     },
     "execution_count": 102,
     "metadata": {},
     "output_type": "execute_result"
    }
   ],
   "source": [
    "(~(filedata > 50) & (filedata < 100))"
   ]
  },
  {
   "cell_type": "code",
   "execution_count": null,
   "metadata": {},
   "outputs": [],
   "source": []
  },
  {
   "cell_type": "markdown",
   "metadata": {},
   "source": [
    "# [Important Functions](https://medium.com/@chuntcdj/numpy-the-10-functions-that-you-should-know-bee7f53c98cf)\n"
   ]
  },
  {
   "cell_type": "code",
   "execution_count": 3,
   "metadata": {},
   "outputs": [
    {
     "data": {
      "text/plain": [
       "array([  1999.        ,   8080.65306122,  14162.30612245,  20243.95918367,\n",
       "        26325.6122449 ,  32407.26530612,  38488.91836735,  44570.57142857,\n",
       "        50652.2244898 ,  56733.87755102,  62815.53061224,  68897.18367347,\n",
       "        74978.83673469,  81060.48979592,  87142.14285714,  93223.79591837,\n",
       "        99305.44897959, 105387.10204082, 111468.75510204, 117550.40816327,\n",
       "       123632.06122449, 129713.71428571, 135795.36734694, 141877.02040816,\n",
       "       147958.67346939, 154040.32653061, 160121.97959184, 166203.63265306,\n",
       "       172285.28571429, 178366.93877551, 184448.59183673, 190530.24489796,\n",
       "       196611.89795918, 202693.55102041, 208775.20408163, 214856.85714286,\n",
       "       220938.51020408, 227020.16326531, 233101.81632653, 239183.46938776,\n",
       "       245265.12244898, 251346.7755102 , 257428.42857143, 263510.08163265,\n",
       "       269591.73469388, 275673.3877551 , 281755.04081633, 287836.69387755,\n",
       "       293918.34693878, 300000.        ])"
      ]
     },
     "execution_count": 3,
     "metadata": {},
     "output_type": "execute_result"
    }
   ],
   "source": [
    "# Linspace: números reais\n",
    "\n",
    "\n",
    "# Número em que vai começar, número que vai terminar, números a serem gerados\n",
    "np.linspace(10,100,10)\n",
    "\n",
    "np.linspace(1999, 300000)"
   ]
  },
  {
   "cell_type": "code",
   "execution_count": 4,
   "metadata": {},
   "outputs": [
    {
     "data": {
      "text/plain": [
       "array([200, 209, 218, 227, 236, 245, 254, 263, 272, 281, 290, 299, 308,\n",
       "       317, 326, 335, 344, 353, 362, 371, 380, 389, 398, 407, 416, 425,\n",
       "       434, 443, 452, 461, 470, 479, 488, 497, 506, 515, 524, 533, 542,\n",
       "       551, 560, 569, 578, 587, 596, 605, 614, 623, 632, 641, 650, 659,\n",
       "       668, 677, 686, 695, 704, 713, 722, 731, 740, 749, 758, 767, 776,\n",
       "       785, 794])"
      ]
     },
     "execution_count": 4,
     "metadata": {},
     "output_type": "execute_result"
    }
   ],
   "source": [
    "# Arange: mesma coisa do linspace mas com números insteiros\n",
    "np.arange(200, 800, 9)"
   ]
  },
  {
   "cell_type": "code",
   "execution_count": 10,
   "metadata": {},
   "outputs": [
    {
     "data": {
      "text/plain": [
       "array([[[5, 4, 0, 4, 6, 6, 4, 8],\n",
       "        [4, 2, 8, 7, 2, 9, 8, 8],\n",
       "        [5, 4, 2, 2, 1, 6, 9, 3],\n",
       "        [3, 2, 7, 7, 7, 7, 9, 4],\n",
       "        [4, 7, 1, 1, 7, 3, 9, 0],\n",
       "        [1, 5, 5, 9, 9, 4, 1, 4],\n",
       "        [3, 3, 4, 0, 2, 3, 6, 0]],\n",
       "\n",
       "       [[7, 9, 5, 0, 5, 8, 1, 8],\n",
       "        [8, 3, 1, 5, 6, 5, 6, 9],\n",
       "        [2, 5, 6, 0, 5, 1, 1, 2],\n",
       "        [9, 9, 0, 3, 5, 7, 6, 1],\n",
       "        [8, 4, 8, 9, 8, 5, 5, 5],\n",
       "        [4, 4, 3, 0, 8, 4, 0, 1],\n",
       "        [5, 6, 8, 2, 6, 5, 6, 6]],\n",
       "\n",
       "       [[7, 7, 4, 4, 8, 1, 2, 3],\n",
       "        [6, 0, 3, 9, 3, 6, 9, 6],\n",
       "        [4, 8, 7, 1, 3, 7, 1, 1],\n",
       "        [6, 2, 8, 5, 0, 8, 1, 6],\n",
       "        [9, 0, 3, 5, 9, 0, 7, 2],\n",
       "        [6, 9, 6, 8, 6, 5, 3, 3],\n",
       "        [2, 2, 7, 9, 0, 6, 8, 6]],\n",
       "\n",
       "       [[8, 6, 6, 6, 5, 5, 9, 3],\n",
       "        [6, 2, 7, 7, 3, 2, 2, 2],\n",
       "        [9, 8, 0, 5, 8, 7, 7, 7],\n",
       "        [7, 2, 1, 6, 9, 0, 9, 0],\n",
       "        [0, 4, 2, 5, 4, 6, 8, 5],\n",
       "        [1, 9, 1, 1, 5, 5, 9, 9],\n",
       "        [5, 1, 7, 1, 0, 2, 3, 3]],\n",
       "\n",
       "       [[1, 5, 4, 0, 8, 1, 6, 1],\n",
       "        [6, 5, 5, 3, 9, 6, 7, 7],\n",
       "        [4, 8, 3, 5, 1, 3, 3, 7],\n",
       "        [4, 3, 0, 6, 5, 0, 0, 9],\n",
       "        [3, 6, 2, 8, 6, 0, 0, 8],\n",
       "        [8, 2, 9, 1, 6, 3, 5, 5],\n",
       "        [5, 5, 9, 1, 9, 7, 3, 9]]])"
      ]
     },
     "execution_count": 10,
     "metadata": {},
     "output_type": "execute_result"
    }
   ],
   "source": [
    "np.random.seed(22)\n",
    "\n",
    "np.random.randint(10, size=(5,7,8))"
   ]
  },
  {
   "cell_type": "code",
   "execution_count": 17,
   "metadata": {},
   "outputs": [
    {
     "name": "stdout",
     "output_type": "stream",
     "text": [
      "[[51 83]\n",
      " [58 54]\n",
      " [54 57]\n",
      " [94 41]\n",
      " [86 45]\n",
      " [37 65]\n",
      " [98 11]\n",
      " [18 58]\n",
      " [56 94]\n",
      " [68 29]\n",
      " [12 81]\n",
      " [13 50]\n",
      " [91 65]]\n"
     ]
    },
    {
     "data": {
      "text/plain": [
       "array([[51, 58, 54, 94, 86, 37, 98, 18, 56, 68, 12, 13, 91],\n",
       "       [83, 54, 57, 41, 45, 65, 11, 58, 94, 29, 81, 50, 65]])"
      ]
     },
     "execution_count": 17,
     "metadata": {},
     "output_type": "execute_result"
    }
   ],
   "source": [
    "# Transposição de vetores\n",
    "array = np.random.randint(4,99, (13, 2))\n",
    "print(array)\n",
    "\n",
    "np.transpose(array)\n"
   ]
  },
  {
   "cell_type": "markdown",
   "metadata": {},
   "source": [
    "# Misturando matrizes"
   ]
  },
  {
   "cell_type": "code",
   "execution_count": 25,
   "metadata": {},
   "outputs": [
    {
     "name": "stdout",
     "output_type": "stream",
     "text": [
      "[[1. 1. 1. 1. 1.]\n",
      " [1. 1. 1. 1. 1.]\n",
      " [1. 1. 1. 1. 1.]\n",
      " [1. 1. 1. 1. 1.]\n",
      " [1. 1. 1. 1. 1.]]\n",
      "[[0. 0. 0.]\n",
      " [0. 0. 0.]\n",
      " [0. 0. 0.]]\n",
      "[[0. 0. 0.]\n",
      " [0. 9. 0.]\n",
      " [0. 0. 0.]]\n",
      "[[1. 1. 1. 1. 1.]\n",
      " [1. 0. 0. 0. 1.]\n",
      " [1. 0. 9. 0. 1.]\n",
      " [1. 0. 0. 0. 1.]\n",
      " [1. 1. 1. 1. 1.]]\n"
     ]
    }
   ],
   "source": [
    "a = np.ones([5,5])\n",
    "print(a)\n",
    "\n",
    "b = np.zeros([3,3])\n",
    "print(b)\n",
    "b[1,1] = 9\n",
    "print(b)\n",
    "\n",
    "a[1:4,1:4] = b\n",
    "print(a)"
   ]
  }
 ],
 "metadata": {
  "kernelspec": {
   "display_name": "envtorandom",
   "language": "python",
   "name": "python3"
  },
  "language_info": {
   "codemirror_mode": {
    "name": "ipython",
    "version": 3
   },
   "file_extension": ".py",
   "mimetype": "text/x-python",
   "name": "python",
   "nbconvert_exporter": "python",
   "pygments_lexer": "ipython3",
   "version": "3.12.3"
  }
 },
 "nbformat": 4,
 "nbformat_minor": 2
}
