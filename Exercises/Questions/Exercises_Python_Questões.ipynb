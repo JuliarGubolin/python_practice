{
 "cells": [
  {
   "cell_type": "markdown",
   "metadata": {},
   "source": [
    "# Exercícios de Python caderno TEC"
   ]
  },
  {
   "cell_type": "markdown",
   "metadata": {},
   "source": [
    "## Exercício 1"
   ]
  },
  {
   "cell_type": "markdown",
   "metadata": {},
   "source": [
    "Um desenvolvedor de software escreveu o programa a seguir, usando Python:\n",
    " \n",
    "def funcao (X):\n",
    "       if (X==1): return (1)\n",
    "       else: return ( X + funcao (X-2) )\n",
    "\n",
    "\n",
    "X = int ( input (‘Valor X = ’) )\n",
    "print (‘ Resultado = ‘, funcao (X) )\n",
    " \n",
    "\n",
    "Caso seja passado como valor de X o número 27, o resultado apresentado será:"
   ]
  },
  {
   "cell_type": "code",
   "execution_count": 1,
   "metadata": {},
   "outputs": [
    {
     "name": "stdout",
     "output_type": "stream",
     "text": [
      "27\n",
      "25\n",
      "23\n",
      "21\n",
      "19\n",
      "17\n",
      "15\n",
      "13\n",
      "11\n",
      "9\n",
      "7\n",
      "5\n",
      "3\n",
      "Resultado =  196\n"
     ]
    }
   ],
   "source": [
    "#Questões sobre python\n",
    "\n",
    "def funcao (X):\n",
    "       if (X==1): return (1)\n",
    "       else: \n",
    "           print(X)\n",
    "           return ( X + funcao (X-2) )\n",
    "\n",
    "\n",
    "X = int ( input ('Valor X = ') )\n",
    "print('Resultado = ', funcao(X))\n",
    "\n",
    "# Funcionamento: caso a entrada seja 27, ele irá somar sempre o valor X com um valor 2 dígitos menor\n",
    "# 27+25+23+21+19+17+15+13+11+9+7+5+3 = 196"
   ]
  },
  {
   "cell_type": "markdown",
   "metadata": {},
   "source": [
    "## Exercício 2"
   ]
  },
  {
   "cell_type": "markdown",
   "metadata": {},
   "source": [
    "Analise o trecho código Python a seguir.\n",
    " \n",
    "AREA = [3.7, 5.356, 4.9061, 4.32092, 9.038758, 32.5434846]\n",
    " \n",
    "resultado = list(map(round, AREA, range(1,5))) print(resultado)\n",
    " \n",
    "O valor impresso é:"
   ]
  },
  {
   "cell_type": "code",
   "execution_count": 4,
   "metadata": {},
   "outputs": [
    {
     "name": "stdout",
     "output_type": "stream",
     "text": [
      "[3.7, 5.356, 4.9061, 4.32092, 9.038758, 32.5434846]\n",
      "[3.7, 5.36, 4.906, 4.3209]\n"
     ]
    }
   ],
   "source": [
    "AREA = [3.7, 5.356, 4.9061, 4.32092, 9.038758, 32.5434846]\n",
    "print(AREA)\n",
    " \n",
    "resultado = list(map(round, AREA, range(1,5))) \n",
    "print(resultado)"
   ]
  },
  {
   "cell_type": "code",
   "execution_count": 3,
   "metadata": {},
   "outputs": [
    {
     "data": {
      "text/plain": [
       "7"
      ]
     },
     "execution_count": 3,
     "metadata": {},
     "output_type": "execute_result"
    }
   ],
   "source": [
    "a = 6.878293\n",
    "round(a)"
   ]
  },
  {
   "cell_type": "markdown",
   "metadata": {},
   "source": [
    "## Exercício 3"
   ]
  },
  {
   "cell_type": "code",
   "execution_count": 6,
   "metadata": {},
   "outputs": [
    {
     "name": "stdout",
     "output_type": "stream",
     "text": [
      "[1, 3, 4, 5, 9]\n"
     ]
    }
   ],
   "source": [
    "# Funções de vatores\n",
    "\n",
    "numeros = [1, 3, 4, 5]\n",
    "numeros.append(9)\n",
    "print(numeros)"
   ]
  },
  {
   "cell_type": "markdown",
   "metadata": {},
   "source": [
    "## Exercício 4 formatação"
   ]
  },
  {
   "cell_type": "code",
   "execution_count": 10,
   "metadata": {},
   "outputs": [
    {
     "name": "stdout",
     "output_type": "stream",
     "text": [
      "12.5\n"
     ]
    }
   ],
   "source": [
    "x = 2.467383\n",
    "round(x, 0)\n",
    "\n",
    "print(\"{:.1f}\".format(12.45667))"
   ]
  },
  {
   "cell_type": "markdown",
   "metadata": {},
   "source": [
    "## NUMPY"
   ]
  },
  {
   "cell_type": "code",
   "execution_count": 1,
   "metadata": {},
   "outputs": [],
   "source": [
    "import numpy as np"
   ]
  },
  {
   "cell_type": "code",
   "execution_count": 5,
   "metadata": {},
   "outputs": [
    {
     "name": "stdout",
     "output_type": "stream",
     "text": [
      "[[ 1  2  3  4]\n",
      " [ 5  6  7  8]\n",
      " [ 9 10 11 12]\n",
      " [13 14 15 16]\n",
      " [17 18 19 20]]\n",
      "[[ 1  2  3  4  5]\n",
      " [ 6  7  8  9 10]\n",
      " [11 12 13 14 15]\n",
      " [16 17 18 19 20]]\n"
     ]
    },
    {
     "data": {
      "text/plain": [
       "array([[ 1,  2,  3,  4,  5],\n",
       "       [ 6,  7,  8,  9, 10],\n",
       "       [11, 12, 13, 14, 15],\n",
       "       [16, 17, 18, 19, 20]])"
      ]
     },
     "execution_count": 5,
     "metadata": {},
     "output_type": "execute_result"
    }
   ],
   "source": [
    "a = np.array([1, 2, 3, 4, 5, 6, 7, 8, 9, 10, 11, 12, 13, 14, 15, 16, 17, 18, 19, 20])\n",
    "# 5 linhas 4 colunas\n",
    "b = a.reshape((5, 4))\n",
    "print(b)\n",
    "\n",
    "# 4 linhas 5 colunas\n",
    "b = a.reshape((4, 5))\n",
    "print(b)\n",
    "\n",
    "np.reshape(a, (4,5))"
   ]
  }
 ],
 "metadata": {
  "kernelspec": {
   "display_name": ".venv",
   "language": "python",
   "name": "python3"
  },
  "language_info": {
   "codemirror_mode": {
    "name": "ipython",
    "version": 3
   },
   "file_extension": ".py",
   "mimetype": "text/x-python",
   "name": "python",
   "nbconvert_exporter": "python",
   "pygments_lexer": "ipython3",
   "version": "3.12.3"
  }
 },
 "nbformat": 4,
 "nbformat_minor": 2
}
